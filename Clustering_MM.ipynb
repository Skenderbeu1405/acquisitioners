{
 "cells": [
  {
   "cell_type": "markdown",
   "metadata": {},
   "source": [
    "\n",
    "# CLUSTERING Contract DATA \n",
    "         \n",
    "Clustering is a type of **Unsupervised Machine Learning**, which can determine relationships of unlabeled data.  \n",
    "This notebook will show how to get and prepare data for exploration of clustering methods.  \n",
    "This notebook will use scikit-learn for machine learning processes.\n",
    "\n",
    "### Data information\n",
    "Test K Means over detail and summarized government IT contracts "
   ]
  },
  {
   "cell_type": "markdown",
   "metadata": {},
   "source": [
    "### Dependencies"
   ]
  },
  {
   "cell_type": "code",
   "execution_count": 1,
   "metadata": {},
   "outputs": [],
   "source": [
    "import pandas as pd\n",
    "import csv\n",
    "import os \n",
    "import numpy as np\n",
    "import matplotlib\n",
    "import seaborn as sns\n",
    "import matplotlib.pyplot as plt\n",
    "#from pandas.tools.plotting import scatter_matrix\n",
    "from __future__ import print_function\n",
    "import urllib.request\n",
    "from sklearn.feature_selection import SelectFromModel\n",
    "from sklearn.decomposition import PCA\n",
    "from sklearn import preprocessing\n",
    "matplotlib.style.use('ggplot')\n",
    "from sklearn.cluster import KMeans\n",
    "from sklearn.cluster import MiniBatchKMeans\n",
    "\n",
    "from sklearn.preprocessing import MinMaxScaler, StandardScaler,RobustScaler, Normalizer\n",
    "import seaborn as sns\n",
    "import matplotlib.pyplot as plt\n",
    "from time import time\n",
    "from datetime import datetime\n",
    "import numpy as np\n",
    "import matplotlib.pyplot as plt\n",
    "from sklearn.preprocessing import scale\n",
    "from sklearn import metrics\n",
    "from sklearn.cluster import KMeans\n",
    "from sklearn.preprocessing import StandardScaler, MinMaxScaler\n",
    "%matplotlib inline \n",
    "import matplotlib.cm as cm\n",
    "from sklearn.cluster import AgglomerativeClustering\n",
    "import warnings\n",
    "from sklearn.metrics import silhouette_samples, silhouette_score"
   ]
  },
  {
   "cell_type": "markdown",
   "metadata": {},
   "source": [
    "### Preparing Data\n",
    "Use pandas to prepare data for machine learning.\n"
   ]
  },
  {
   "cell_type": "code",
   "execution_count": 37,
   "metadata": {},
   "outputs": [],
   "source": [
    "#Reading in my own data\n",
    "file_name = os.path.join(os.getcwd(), \"out1.csv\")\n",
    "\n",
    "df = pd.read_csv(file_name,skipinitialspace=True)"
   ]
  },
  {
   "cell_type": "markdown",
   "metadata": {},
   "source": [
    "Look at the structure of the data."
   ]
  },
  {
   "cell_type": "code",
   "execution_count": 38,
   "metadata": {
    "scrolled": true
   },
   "outputs": [
    {
     "data": {
      "text/html": [
       "<div>\n",
       "<style scoped>\n",
       "    .dataframe tbody tr th:only-of-type {\n",
       "        vertical-align: middle;\n",
       "    }\n",
       "\n",
       "    .dataframe tbody tr th {\n",
       "        vertical-align: top;\n",
       "    }\n",
       "\n",
       "    .dataframe thead th {\n",
       "        text-align: right;\n",
       "    }\n",
       "</style>\n",
       "<table border=\"1\" class=\"dataframe\">\n",
       "  <thead>\n",
       "    <tr style=\"text-align: right;\">\n",
       "      <th></th>\n",
       "      <th>Unnamed: 0</th>\n",
       "      <th>tid</th>\n",
       "      <th>unique_award_id</th>\n",
       "      <th>dollars_obligated</th>\n",
       "      <th>naics_code</th>\n",
       "      <th>fiscalyear</th>\n",
       "      <th>level_3_cat_delivery</th>\n",
       "      <th>level_3_cat_securitycompliance</th>\n",
       "      <th>level_3_cat_storage</th>\n",
       "      <th>level_3_cat_enduser</th>\n",
       "      <th>...</th>\n",
       "      <th>Cnr_STARS8A</th>\n",
       "      <th>Cnr_VETTECHSERV</th>\n",
       "      <th>Cnr_Wireless Mobility Solutions</th>\n",
       "      <th>AT_A BPA CALL</th>\n",
       "      <th>AT_B IDC</th>\n",
       "      <th>AT_B PURCHASE ORDER</th>\n",
       "      <th>AT_C DELIVERY ORDER</th>\n",
       "      <th>AT_D DEFINITIVE CONTRACT</th>\n",
       "      <th>FD_Civilian</th>\n",
       "      <th>FD_DOD</th>\n",
       "    </tr>\n",
       "  </thead>\n",
       "  <tbody>\n",
       "    <tr>\n",
       "      <th>0</th>\n",
       "      <td>0</td>\n",
       "      <td>471970</td>\n",
       "      <td>GS00T07NSD0038HC101318FJ876</td>\n",
       "      <td>230.14</td>\n",
       "      <td>517110.0</td>\n",
       "      <td>2020</td>\n",
       "      <td>0</td>\n",
       "      <td>0</td>\n",
       "      <td>0</td>\n",
       "      <td>0</td>\n",
       "      <td>...</td>\n",
       "      <td>0</td>\n",
       "      <td>0</td>\n",
       "      <td>0</td>\n",
       "      <td>0</td>\n",
       "      <td>0</td>\n",
       "      <td>0</td>\n",
       "      <td>1</td>\n",
       "      <td>0</td>\n",
       "      <td>0</td>\n",
       "      <td>1</td>\n",
       "    </tr>\n",
       "    <tr>\n",
       "      <th>1</th>\n",
       "      <td>1</td>\n",
       "      <td>472122</td>\n",
       "      <td>GS35F0426RDJJ15FUSA230016</td>\n",
       "      <td>-185.47</td>\n",
       "      <td>517110.0</td>\n",
       "      <td>2018</td>\n",
       "      <td>0</td>\n",
       "      <td>0</td>\n",
       "      <td>0</td>\n",
       "      <td>0</td>\n",
       "      <td>...</td>\n",
       "      <td>0</td>\n",
       "      <td>0</td>\n",
       "      <td>0</td>\n",
       "      <td>0</td>\n",
       "      <td>0</td>\n",
       "      <td>0</td>\n",
       "      <td>1</td>\n",
       "      <td>0</td>\n",
       "      <td>1</td>\n",
       "      <td>0</td>\n",
       "    </tr>\n",
       "    <tr>\n",
       "      <th>2</th>\n",
       "      <td>2</td>\n",
       "      <td>472216</td>\n",
       "      <td>GS35F218CAFA489015F0029</td>\n",
       "      <td>0.00</td>\n",
       "      <td>541519.0</td>\n",
       "      <td>2015</td>\n",
       "      <td>0</td>\n",
       "      <td>0</td>\n",
       "      <td>0</td>\n",
       "      <td>0</td>\n",
       "      <td>...</td>\n",
       "      <td>0</td>\n",
       "      <td>0</td>\n",
       "      <td>0</td>\n",
       "      <td>0</td>\n",
       "      <td>0</td>\n",
       "      <td>0</td>\n",
       "      <td>1</td>\n",
       "      <td>0</td>\n",
       "      <td>0</td>\n",
       "      <td>1</td>\n",
       "    </tr>\n",
       "    <tr>\n",
       "      <th>3</th>\n",
       "      <td>3</td>\n",
       "      <td>472242</td>\n",
       "      <td>GS35F0119PHC101315FC037</td>\n",
       "      <td>0.00</td>\n",
       "      <td>541519.0</td>\n",
       "      <td>2016</td>\n",
       "      <td>0</td>\n",
       "      <td>0</td>\n",
       "      <td>0</td>\n",
       "      <td>0</td>\n",
       "      <td>...</td>\n",
       "      <td>0</td>\n",
       "      <td>0</td>\n",
       "      <td>0</td>\n",
       "      <td>0</td>\n",
       "      <td>0</td>\n",
       "      <td>0</td>\n",
       "      <td>1</td>\n",
       "      <td>0</td>\n",
       "      <td>0</td>\n",
       "      <td>1</td>\n",
       "    </tr>\n",
       "    <tr>\n",
       "      <th>4</th>\n",
       "      <td>4</td>\n",
       "      <td>473172</td>\n",
       "      <td>GS35F0511TN6523617F0822</td>\n",
       "      <td>38271.56</td>\n",
       "      <td>443120.0</td>\n",
       "      <td>2017</td>\n",
       "      <td>0</td>\n",
       "      <td>0</td>\n",
       "      <td>0</td>\n",
       "      <td>0</td>\n",
       "      <td>...</td>\n",
       "      <td>0</td>\n",
       "      <td>0</td>\n",
       "      <td>0</td>\n",
       "      <td>0</td>\n",
       "      <td>0</td>\n",
       "      <td>0</td>\n",
       "      <td>1</td>\n",
       "      <td>0</td>\n",
       "      <td>0</td>\n",
       "      <td>1</td>\n",
       "    </tr>\n",
       "  </tbody>\n",
       "</table>\n",
       "<p>5 rows × 73 columns</p>\n",
       "</div>"
      ],
      "text/plain": [
       "   Unnamed: 0     tid              unique_award_id  dollars_obligated  \\\n",
       "0           0  471970  GS00T07NSD0038HC101318FJ876             230.14   \n",
       "1           1  472122    GS35F0426RDJJ15FUSA230016            -185.47   \n",
       "2           2  472216      GS35F218CAFA489015F0029               0.00   \n",
       "3           3  472242      GS35F0119PHC101315FC037               0.00   \n",
       "4           4  473172      GS35F0511TN6523617F0822           38271.56   \n",
       "\n",
       "   naics_code  fiscalyear  level_3_cat_delivery  \\\n",
       "0    517110.0        2020                     0   \n",
       "1    517110.0        2018                     0   \n",
       "2    541519.0        2015                     0   \n",
       "3    541519.0        2016                     0   \n",
       "4    443120.0        2017                     0   \n",
       "\n",
       "   level_3_cat_securitycompliance  level_3_cat_storage  level_3_cat_enduser  \\\n",
       "0                               0                    0                    0   \n",
       "1                               0                    0                    0   \n",
       "2                               0                    0                    0   \n",
       "3                               0                    0                    0   \n",
       "4                               0                    0                    0   \n",
       "\n",
       "   ...  Cnr_STARS8A  Cnr_VETTECHSERV  Cnr_Wireless Mobility Solutions  \\\n",
       "0  ...            0                0                                0   \n",
       "1  ...            0                0                                0   \n",
       "2  ...            0                0                                0   \n",
       "3  ...            0                0                                0   \n",
       "4  ...            0                0                                0   \n",
       "\n",
       "   AT_A BPA CALL  AT_B IDC  AT_B PURCHASE ORDER  AT_C DELIVERY ORDER  \\\n",
       "0              0         0                    0                    1   \n",
       "1              0         0                    0                    1   \n",
       "2              0         0                    0                    1   \n",
       "3              0         0                    0                    1   \n",
       "4              0         0                    0                    1   \n",
       "\n",
       "   AT_D DEFINITIVE CONTRACT  FD_Civilian  FD_DOD  \n",
       "0                         0            0       1  \n",
       "1                         0            1       0  \n",
       "2                         0            0       1  \n",
       "3                         0            0       1  \n",
       "4                         0            0       1  \n",
       "\n",
       "[5 rows x 73 columns]"
      ]
     },
     "execution_count": 38,
     "metadata": {},
     "output_type": "execute_result"
    }
   ],
   "source": [
    "df.head()"
   ]
  },
  {
   "cell_type": "code",
   "execution_count": 5,
   "metadata": {},
   "outputs": [
    {
     "data": {
      "text/plain": [
       "Index(['Unnamed: 0', 'tid', 'unique_award_id', 'dollars_obligated',\n",
       "       'naics_code', 'fiscalyear', 'level_3_cat_delivery',\n",
       "       'level_3_cat_securitycompliance', 'level_3_cat_storage',\n",
       "       'level_3_cat_enduser', 'level_3_cat_platform',\n",
       "       'level_3_cat_application', 'level_3_cat_compute',\n",
       "       'level_3_cat_itmanagement', 'level_3_cat_network',\n",
       "       'level_3_cat_datacenter', 'level_2_cat_itprof', 'level_2_cat_products',\n",
       "       'level_2_cat_caas', 'eighta', 'co_bus_size_sba', 'biz_rule_tiert1',\n",
       "       'biz_rule_tiert2', 'biz_rule_tierbic', 'biz_rule_tier0', 'award', 'idv',\n",
       "       'department_name', 'funding_agency_name', 'funding_cfo_act_agency',\n",
       "       'vdo1_booz', 'vdo2_none', 'vdo3_dfs', 'vdo4_saic', 'vdo5_cara',\n",
       "       'vdo6_ipsi', 'vdo7_attc', 'vdo8_acct', 'vdo9_srac', 'vd10_ibm',\n",
       "       'vd11_other', 'va01_none', 'va02_solv', 'va03_cara', 'va04_attc',\n",
       "       'va05_cell', 'va06_mcic', 'va07_dlts', 'va08_attm', 'va09_qwes',\n",
       "       'va10_dellm', 'va11_other', 'description_of_requirement', 'psc_desc',\n",
       "       'trxyear', 'Cnr_ALLIANT', 'Cnr_CONNECTIONS', 'Cnr_EIS', 'Cnr_MAS',\n",
       "       'Cnr_MILLENIAL', 'Cnr_SALESFORCE', 'Cnr_SATCOM', 'Cnr_SCHED70',\n",
       "       'Cnr_STARS8A', 'Cnr_VETTECHSERV', 'Cnr_Wireless Mobility Solutions',\n",
       "       'AT_A BPA CALL', 'AT_B IDC', 'AT_B PURCHASE ORDER',\n",
       "       'AT_C DELIVERY ORDER', 'AT_D DEFINITIVE CONTRACT', 'FD_Civilian',\n",
       "       'FD_DOD'],\n",
       "      dtype='object')"
      ]
     },
     "execution_count": 5,
     "metadata": {},
     "output_type": "execute_result"
    }
   ],
   "source": [
    "df.columns"
   ]
  },
  {
   "cell_type": "code",
   "execution_count": 39,
   "metadata": {},
   "outputs": [],
   "source": [
    "#columns to drop for this exercise - 'department_name', 'funding_agency_name', 'funding_cfo_act_agency'\n",
    "#,'description_of_requirement', 'psc_desc'\n",
    "df.head(1)\n"
   ]
  },
  {
   "cell_type": "code",
   "execution_count": 74,
   "metadata": {},
   "outputs": [
    {
     "name": "stdout",
     "output_type": "stream",
     "text": [
      "65 73\n"
     ]
    },
    {
     "data": {
      "text/plain": [
       "Index(['dollars_obligated', 'naics_code', 'fiscalyear', 'level_3_cat_delivery',\n",
       "       'level_3_cat_securitycompliance', 'level_3_cat_storage',\n",
       "       'level_3_cat_enduser', 'level_3_cat_platform',\n",
       "       'level_3_cat_application', 'level_3_cat_compute',\n",
       "       'level_3_cat_itmanagement', 'level_3_cat_network',\n",
       "       'level_3_cat_datacenter', 'level_2_cat_itprof', 'level_2_cat_products',\n",
       "       'level_2_cat_caas', 'eighta', 'co_bus_size_sba', 'biz_rule_tiert1',\n",
       "       'biz_rule_tiert2', 'biz_rule_tierbic', 'biz_rule_tier0', 'award', 'idv',\n",
       "       'vdo1_booz', 'vdo2_none', 'vdo3_dfs', 'vdo4_saic', 'vdo5_cara',\n",
       "       'vdo6_ipsi', 'vdo7_attc', 'vdo8_acct', 'vdo9_srac', 'vd10_ibm',\n",
       "       'vd11_other', 'va01_none', 'va02_solv', 'va03_cara', 'va04_attc',\n",
       "       'va05_cell', 'va06_mcic', 'va07_dlts', 'va08_attm', 'va09_qwes',\n",
       "       'va10_dellm', 'va11_other', 'trxyear', 'Cnr_ALLIANT', 'Cnr_CONNECTIONS',\n",
       "       'Cnr_EIS', 'Cnr_MAS', 'Cnr_MILLENIAL', 'Cnr_SALESFORCE', 'Cnr_SATCOM',\n",
       "       'Cnr_SCHED70', 'Cnr_STARS8A', 'Cnr_VETTECHSERV',\n",
       "       'Cnr_Wireless Mobility Solutions', 'AT_A BPA CALL', 'AT_B IDC',\n",
       "       'AT_B PURCHASE ORDER', 'AT_C DELIVERY ORDER',\n",
       "       'AT_D DEFINITIVE CONTRACT', 'FD_Civilian', 'FD_DOD'],\n",
       "      dtype='object')"
      ]
     },
     "execution_count": 74,
     "metadata": {},
     "output_type": "execute_result"
    }
   ],
   "source": [
    "#drop columns\n",
    "df2 = df.drop(df.columns[[0,1,2,27,28,29,52,53]], axis = 1)\n",
    "print(len(df2.columns),len(df.columns))\n",
    "df2.columns"
   ]
  },
  {
   "cell_type": "markdown",
   "metadata": {},
   "source": [
    "Select columns that will be used as features for Machine Learning."
   ]
  },
  {
   "cell_type": "code",
   "execution_count": 75,
   "metadata": {},
   "outputs": [],
   "source": [
    "#I'm using them all except categorical, which were removed in a previous step\n",
    "\n",
    "x = df2"
   ]
  },
  {
   "cell_type": "markdown",
   "metadata": {},
   "source": [
    "Dealing with missing values can be done by removing rows with missing data...."
   ]
  },
  {
   "cell_type": "code",
   "execution_count": 76,
   "metadata": {},
   "outputs": [
    {
     "name": "stdout",
     "output_type": "stream",
     "text": [
      "original number of rows:  528640\n",
      "new number of rows:  527775\n"
     ]
    }
   ],
   "source": [
    "#check number of rows\n",
    "print (\"original number of rows:  %d\" % (len(x.index)))\n",
    "\n",
    "#see the nan rows\n",
    "x[x.isna().any(axis=1)]\n",
    "\n",
    "#remove rows\n",
    "x1 = x.dropna()\n",
    "print (\"new number of rows:  %d\" % (len(x1.index)))\n"
   ]
  },
  {
   "cell_type": "markdown",
   "metadata": {},
   "source": [
    "Or imputating missing values with the interpolate function from pandas."
   ]
  },
  {
   "cell_type": "code",
   "execution_count": 77,
   "metadata": {},
   "outputs": [],
   "source": [
    "## all Nans to white space\n",
    "\n",
    "x1 = x1.replace(np.nan, ' ', regex = True)\n",
    "x1 = x1.replace(np.nan, 'NaN', regex = True)\n",
    "\"\"\"\n",
    "## convert to all floats\n",
    "with warnings.catch_warnings():\n",
    "    warnings.simplefilter(\"ignore\")\n",
    "    x = x.convert_objects(convert_numeric = True)\n",
    "x = x.interpolate()\n",
    "\"\"\"\n",
    "x1.isnull().any().any() ## to check if any missing data\n",
    "\n",
    "x1 = x1.dropna()"
   ]
  },
  {
   "cell_type": "code",
   "execution_count": null,
   "metadata": {},
   "outputs": [],
   "source": [
    "#naics_code is really an int\n",
    "x1['naics_code']=x1['naics_code'].astype('int64')"
   ]
  },
  {
   "cell_type": "markdown",
   "metadata": {},
   "source": [
    "Prepare features by converting the dataframe into an array."
   ]
  },
  {
   "cell_type": "code",
   "execution_count": 83,
   "metadata": {},
   "outputs": [],
   "source": [
    "# features into array\n",
    "features = x1.values"
   ]
  },
  {
   "cell_type": "markdown",
   "metadata": {},
   "source": [
    "To see variance of features: boxplot (from Seaborn) can be used with the MinMaxscaler (from scikit-learn) to visualize this."
   ]
  },
  {
   "cell_type": "code",
   "execution_count": 84,
   "metadata": {},
   "outputs": [
    {
     "data": {
      "text/plain": [
       "<AxesSubplot:>"
      ]
     },
     "execution_count": 84,
     "metadata": {},
     "output_type": "execute_result"
    },
    {
     "data": {
      "image/png": "[encoded data removed]",
      "text/plain": [
       "<Figure size 432x288 with 1 Axes>"
      ]
     },
     "metadata": {
      "needs_background": "light"
     },
     "output_type": "display_data"
    }
   ],
   "source": [
    "min_max_scaler = MinMaxScaler()\n",
    "fmm = min_max_scaler.fit_transform(features)\n",
    "fmX = pd.DataFrame(fmm)\n",
    "\n",
    "ax = sns.boxplot(data=fmX)\n",
    "ax"
   ]
  },
  {
   "cell_type": "raw",
   "metadata": {},
   "source": [
    "## Unsupervised Machine Learning with *Clustering*\n",
    "Clustering can label the unlabeled Contract Data.\n",
    "\n",
    "Below is a summary of the parameters used by the clustering algorithms from scikit-learn:\n",
    "\n",
    "* K-Means: number of clusters\n",
    "* Affinity propagation: damping, sample preference\n",
    "* Means-shift: bandwidth\n",
    "* Spectral Clustering: number of clusters\n",
    "* Ward hierachical clustering: number of clusters\n",
    "* DBSCAN: neighborhood size\n",
    "* Gaussian mixtures: *there are many to choose from*\n",
    "* Birch: branching factor, threshold, optional global clusterer\n",
    "\n",
    "\n",
    "Read more about [Clustering with Scikit-Learn](http://scikit-learn.org/stable/modules/clustering.html#clustering)."
   ]
  },
  {
   "cell_type": "markdown",
   "metadata": {},
   "source": [
    "**Start with K-means since it's simple.**  \n",
    "Read more about [**K-Means**](http://scikit-learn.org/stable/modules/generated/sklearn.cluster.KMeans.html#sklearn.cluster.KMeans).  \n",
    "The parameter that K-Means utilizes is the number of clusters or k."
   ]
  },
  {
   "cell_type": "markdown",
   "metadata": {},
   "source": [
    "Pick a number of clusters or k for K-Means, and check its performance by using the [silhouette score](http://scikit-learn.org/stable/modules/generated/sklearn.metrics.silhouette_score.html), the metric that assesses the variance of objects within clusters. *Score closer to 1 is best.*"
   ]
  },
  {
   "cell_type": "code",
   "execution_count": 85,
   "metadata": {},
   "outputs": [
    {
     "data": {
      "text/html": [
       "<div>\n",
       "<style scoped>\n",
       "    .dataframe tbody tr th:only-of-type {\n",
       "        vertical-align: middle;\n",
       "    }\n",
       "\n",
       "    .dataframe tbody tr th {\n",
       "        vertical-align: top;\n",
       "    }\n",
       "\n",
       "    .dataframe thead th {\n",
       "        text-align: right;\n",
       "    }\n",
       "</style>\n",
       "<table border=\"1\" class=\"dataframe\">\n",
       "  <thead>\n",
       "    <tr style=\"text-align: right;\">\n",
       "      <th></th>\n",
       "      <th>dollars_obligated</th>\n",
       "      <th>naics_code</th>\n",
       "      <th>fiscalyear</th>\n",
       "      <th>level_3_cat_delivery</th>\n",
       "      <th>level_3_cat_securitycompliance</th>\n",
       "      <th>level_3_cat_storage</th>\n",
       "      <th>level_3_cat_enduser</th>\n",
       "      <th>level_3_cat_platform</th>\n",
       "      <th>level_3_cat_application</th>\n",
       "      <th>level_3_cat_compute</th>\n",
       "      <th>...</th>\n",
       "      <th>Cnr_STARS8A</th>\n",
       "      <th>Cnr_VETTECHSERV</th>\n",
       "      <th>Cnr_Wireless Mobility Solutions</th>\n",
       "      <th>AT_A BPA CALL</th>\n",
       "      <th>AT_B IDC</th>\n",
       "      <th>AT_B PURCHASE ORDER</th>\n",
       "      <th>AT_C DELIVERY ORDER</th>\n",
       "      <th>AT_D DEFINITIVE CONTRACT</th>\n",
       "      <th>FD_Civilian</th>\n",
       "      <th>FD_DOD</th>\n",
       "    </tr>\n",
       "  </thead>\n",
       "  <tbody>\n",
       "  </tbody>\n",
       "</table>\n",
       "<p>0 rows × 65 columns</p>\n",
       "</div>"
      ],
      "text/plain": [
       "Empty DataFrame\n",
       "Columns: [dollars_obligated, naics_code, fiscalyear, level_3_cat_delivery, level_3_cat_securitycompliance, level_3_cat_storage, level_3_cat_enduser, level_3_cat_platform, level_3_cat_application, level_3_cat_compute, level_3_cat_itmanagement, level_3_cat_network, level_3_cat_datacenter, level_2_cat_itprof, level_2_cat_products, level_2_cat_caas, eighta, co_bus_size_sba, biz_rule_tiert1, biz_rule_tiert2, biz_rule_tierbic, biz_rule_tier0, award, idv, vdo1_booz, vdo2_none, vdo3_dfs, vdo4_saic, vdo5_cara, vdo6_ipsi, vdo7_attc, vdo8_acct, vdo9_srac, vd10_ibm, vd11_other, va01_none, va02_solv, va03_cara, va04_attc, va05_cell, va06_mcic, va07_dlts, va08_attm, va09_qwes, va10_dellm, va11_other, trxyear, Cnr_ALLIANT, Cnr_CONNECTIONS, Cnr_EIS, Cnr_MAS, Cnr_MILLENIAL, Cnr_SALESFORCE, Cnr_SATCOM, Cnr_SCHED70, Cnr_STARS8A, Cnr_VETTECHSERV, Cnr_Wireless Mobility Solutions, AT_A BPA CALL, AT_B IDC, AT_B PURCHASE ORDER, AT_C DELIVERY ORDER, AT_D DEFINITIVE CONTRACT, FD_Civilian, FD_DOD]\n",
       "Index: []\n",
       "\n",
       "[0 rows x 65 columns]"
      ]
     },
     "execution_count": 85,
     "metadata": {},
     "output_type": "execute_result"
    }
   ],
   "source": [
    "x1[x1.isna().any(axis=1)]"
   ]
  },
  {
   "cell_type": "code",
   "execution_count": 93,
   "metadata": {},
   "outputs": [
    {
     "name": "stdout",
     "output_type": "stream",
     "text": [
      "<class 'pandas.core.frame.DataFrame'>\n",
      "Int64Index: 527775 entries, 0 to 528639\n",
      "Data columns (total 65 columns):\n",
      " #   Column                           Non-Null Count   Dtype  \n",
      "---  ------                           --------------   -----  \n",
      " 0   dollars_obligated                527775 non-null  float64\n",
      " 1   naics_code                       527775 non-null  int64  \n",
      " 2   fiscalyear                       527775 non-null  int64  \n",
      " 3   level_3_cat_delivery             527775 non-null  int64  \n",
      " 4   level_3_cat_securitycompliance   527775 non-null  int64  \n",
      " 5   level_3_cat_storage              527775 non-null  int64  \n",
      " 6   level_3_cat_enduser              527775 non-null  int64  \n",
      " 7   level_3_cat_platform             527775 non-null  int64  \n",
      " 8   level_3_cat_application          527775 non-null  int64  \n",
      " 9   level_3_cat_compute              527775 non-null  int64  \n",
      " 10  level_3_cat_itmanagement         527775 non-null  int64  \n",
      " 11  level_3_cat_network              527775 non-null  int64  \n",
      " 12  level_3_cat_datacenter           527775 non-null  int64  \n",
      " 13  level_2_cat_itprof               527775 non-null  int64  \n",
      " 14  level_2_cat_products             527775 non-null  int64  \n",
      " 15  level_2_cat_caas                 527775 non-null  int64  \n",
      " 16  eighta                           527775 non-null  int64  \n",
      " 17  co_bus_size_sba                  527775 non-null  int64  \n",
      " 18  biz_rule_tiert1                  527775 non-null  int64  \n",
      " 19  biz_rule_tiert2                  527775 non-null  int64  \n",
      " 20  biz_rule_tierbic                 527775 non-null  int64  \n",
      " 21  biz_rule_tier0                   527775 non-null  int64  \n",
      " 22  award                            527775 non-null  int64  \n",
      " 23  idv                              527775 non-null  int64  \n",
      " 24  vdo1_booz                        527775 non-null  int64  \n",
      " 25  vdo2_none                        527775 non-null  int64  \n",
      " 26  vdo3_dfs                         527775 non-null  int64  \n",
      " 27  vdo4_saic                        527775 non-null  int64  \n",
      " 28  vdo5_cara                        527775 non-null  int64  \n",
      " 29  vdo6_ipsi                        527775 non-null  int64  \n",
      " 30  vdo7_attc                        527775 non-null  int64  \n",
      " 31  vdo8_acct                        527775 non-null  int64  \n",
      " 32  vdo9_srac                        527775 non-null  int64  \n",
      " 33  vd10_ibm                         527775 non-null  int64  \n",
      " 34  vd11_other                       527775 non-null  int64  \n",
      " 35  va01_none                        527775 non-null  int64  \n",
      " 36  va02_solv                        527775 non-null  int64  \n",
      " 37  va03_cara                        527775 non-null  int64  \n",
      " 38  va04_attc                        527775 non-null  int64  \n",
      " 39  va05_cell                        527775 non-null  int64  \n",
      " 40  va06_mcic                        527775 non-null  int64  \n",
      " 41  va07_dlts                        527775 non-null  int64  \n",
      " 42  va08_attm                        527775 non-null  int64  \n",
      " 43  va09_qwes                        527775 non-null  int64  \n",
      " 44  va10_dellm                       527775 non-null  int64  \n",
      " 45  va11_other                       527775 non-null  int64  \n",
      " 46  trxyear                          527775 non-null  int64  \n",
      " 47  Cnr_ALLIANT                      527775 non-null  int64  \n",
      " 48  Cnr_CONNECTIONS                  527775 non-null  int64  \n",
      " 49  Cnr_EIS                          527775 non-null  int64  \n",
      " 50  Cnr_MAS                          527775 non-null  int64  \n",
      " 51  Cnr_MILLENIAL                    527775 non-null  int64  \n",
      " 52  Cnr_SALESFORCE                   527775 non-null  int64  \n",
      " 53  Cnr_SATCOM                       527775 non-null  int64  \n",
      " 54  Cnr_SCHED70                      527775 non-null  int64  \n",
      " 55  Cnr_STARS8A                      527775 non-null  int64  \n",
      " 56  Cnr_VETTECHSERV                  527775 non-null  int64  \n",
      " 57  Cnr_Wireless Mobility Solutions  527775 non-null  int64  \n",
      " 58  AT_A BPA CALL                    527775 non-null  int64  \n",
      " 59  AT_B IDC                         527775 non-null  int64  \n",
      " 60  AT_B PURCHASE ORDER              527775 non-null  int64  \n",
      " 61  AT_C DELIVERY ORDER              527775 non-null  int64  \n",
      " 62  AT_D DEFINITIVE CONTRACT         527775 non-null  int64  \n",
      " 63  FD_Civilian                      527775 non-null  int64  \n",
      " 64  FD_DOD                           527775 non-null  int64  \n",
      "dtypes: float64(1), int64(64)\n",
      "memory usage: 265.8 MB\n"
     ]
    }
   ],
   "source": [
    "x1.info()"
   ]
  },
  {
   "cell_type": "code",
   "execution_count": 80,
   "metadata": {},
   "outputs": [
    {
     "data": {
      "text/plain": [
       "355249230.4"
      ]
     },
     "execution_count": 80,
     "metadata": {},
     "output_type": "execute_result"
    }
   ],
   "source": [
    "x1.dollars_obligated.max()"
   ]
  },
  {
   "cell_type": "code",
   "execution_count": 92,
   "metadata": {},
   "outputs": [
    {
     "name": "stdout",
     "output_type": "stream",
     "text": [
      "10 2022-05-18 07:57:29.982479 2022-05-18 08:46:01.014783 0.8918228041435732\n"
     ]
    }
   ],
   "source": [
    "start = datetime.now()\n",
    "k = 10\n",
    "cluster = KMeans(init='k-means++', n_clusters=k, n_init=12)\n",
    "cluster.fit(features)\n",
    "sscore = metrics.silhouette_score(features, cluster.labels_)\n",
    "end = datetime.now()\n",
    "print(k,start, end, sscore)\n",
    "# 4 @ 0.9617675504696487, 6 @ 0.95, 8 @ 0.9069364059648168\n",
    "#10, 2022-05-18 07:57:29.982479, 2022-05-18 08:46:01.014783, 0.8918228041435732"
   ]
  },
  {
   "cell_type": "markdown",
   "metadata": {},
   "source": [
    "**Model selection** can be done by looping through a range of k.\n",
    "This could also include looping through different types of clustering methods that uses k or number of clusters as a parameter. \n",
    "\n",
    "The loop includes K-Means and the following clustering methods:  \n",
    "\n",
    "* [**MiniBatch K-Means**](http://scikit-learn.org/stable/modules/clustering.html#mini-batch-kmeans) is the same as K-means but uses mini-batches to reduce computation time \n",
    "* [**Agglomerative Clustering**](http://scikit-learn.org/stable/modules/clustering.html#hierarchical-clustering)  performs heirarchical clustering and can be used with 3 three different merge or linkage strategies : \n",
    "  * **Ward**\n",
    "  * **Complete**\n",
    "  * **Average**\n",
    "\n",
    "The result of the loop is a ranking of the silhouette scores of the different methods and k explored.\n",
    "\n",
    "*Pick a range of k to explore.*"
   ]
  },
  {
   "cell_type": "code",
   "execution_count": 94,
   "metadata": {},
   "outputs": [
    {
     "ename": "MemoryError",
     "evalue": "Unable to allocate 1.01 TiB for an array with shape (139272961425,) and data type float64",
     "output_type": "error",
     "traceback": [
      "\u001b[1;31m---------------------------------------------------------------------------\u001b[0m",
      "\u001b[1;31mMemoryError\u001b[0m                               Traceback (most recent call last)",
      "Input \u001b[1;32mIn [94]\u001b[0m, in \u001b[0;36m<cell line: 7>\u001b[1;34m()\u001b[0m\n\u001b[0;32m     21\u001b[0m     warnings\u001b[38;5;241m.\u001b[39msimplefilter(\u001b[38;5;124m\"\u001b[39m\u001b[38;5;124mignore\u001b[39m\u001b[38;5;124m\"\u001b[39m)\n\u001b[0;32m     22\u001b[0m     bench_clustering(MiniBatchKMeans(init\u001b[38;5;241m=\u001b[39m\u001b[38;5;124m'\u001b[39m\u001b[38;5;124mk-means++\u001b[39m\u001b[38;5;124m'\u001b[39m, n_clusters\u001b[38;5;241m=\u001b[39mn_clusters, n_init\u001b[38;5;241m=\u001b[39m\u001b[38;5;241m12\u001b[39m,max_no_improvement\u001b[38;5;241m=\u001b[39m\u001b[38;5;241m10\u001b[39m, verbose\u001b[38;5;241m=\u001b[39m\u001b[38;5;241m0\u001b[39m,random_state\u001b[38;5;241m=\u001b[39m\u001b[38;5;241m0\u001b[39m),\n\u001b[0;32m     23\u001b[0m                  name\u001b[38;5;241m=\u001b[39m\u001b[38;5;124m\"\u001b[39m\u001b[38;5;124mMiniBatchKMeans\u001b[39m\u001b[38;5;124m\"\u001b[39m, data\u001b[38;5;241m=\u001b[39mfeatures)\n\u001b[1;32m---> 24\u001b[0m \u001b[43mbench_clustering\u001b[49m\u001b[43m(\u001b[49m\u001b[43mAgglomerativeClustering\u001b[49m\u001b[43m(\u001b[49m\u001b[43mn_clusters\u001b[49m\u001b[38;5;241;43m=\u001b[39;49m\u001b[43mn_clusters\u001b[49m\u001b[43m,\u001b[49m\u001b[43m \u001b[49m\u001b[43mlinkage\u001b[49m\u001b[38;5;241;43m=\u001b[39;49m\u001b[38;5;124;43m'\u001b[39;49m\u001b[38;5;124;43mward\u001b[39;49m\u001b[38;5;124;43m'\u001b[39;49m\u001b[43m)\u001b[49m\u001b[43m,\u001b[49m\n\u001b[0;32m     25\u001b[0m \u001b[43m              \u001b[49m\u001b[43mname\u001b[49m\u001b[38;5;241;43m=\u001b[39;49m\u001b[38;5;124;43m\"\u001b[39;49m\u001b[38;5;124;43mWard\u001b[39;49m\u001b[38;5;124;43m\"\u001b[39;49m\u001b[43m,\u001b[49m\u001b[43m \u001b[49m\u001b[43mdata\u001b[49m\u001b[38;5;241;43m=\u001b[39;49m\u001b[43mfeatures\u001b[49m\u001b[43m)\u001b[49m   \n\u001b[0;32m     27\u001b[0m bench_clustering(AgglomerativeClustering(n_clusters\u001b[38;5;241m=\u001b[39mn_clusters, linkage\u001b[38;5;241m=\u001b[39m\u001b[38;5;124m'\u001b[39m\u001b[38;5;124maverage\u001b[39m\u001b[38;5;124m'\u001b[39m),\n\u001b[0;32m     28\u001b[0m               name\u001b[38;5;241m=\u001b[39m\u001b[38;5;124m\"\u001b[39m\u001b[38;5;124mAverage\u001b[39m\u001b[38;5;124m\"\u001b[39m, data\u001b[38;5;241m=\u001b[39mfeatures)  \n\u001b[0;32m     30\u001b[0m bench_clustering(AgglomerativeClustering(n_clusters\u001b[38;5;241m=\u001b[39mn_clusters, linkage\u001b[38;5;241m=\u001b[39m\u001b[38;5;124m'\u001b[39m\u001b[38;5;124mward\u001b[39m\u001b[38;5;124m'\u001b[39m),\n\u001b[0;32m     31\u001b[0m               name\u001b[38;5;241m=\u001b[39m\u001b[38;5;124m\"\u001b[39m\u001b[38;5;124mComplete\u001b[39m\u001b[38;5;124m\"\u001b[39m, data\u001b[38;5;241m=\u001b[39mfeatures) \n",
      "Input \u001b[1;32mIn [94]\u001b[0m, in \u001b[0;36mbench_clustering\u001b[1;34m(estimator, name, data)\u001b[0m\n\u001b[0;32m      8\u001b[0m \u001b[38;5;28;01mdef\u001b[39;00m \u001b[38;5;21mbench_clustering\u001b[39m(estimator, name, data):\n\u001b[1;32m----> 9\u001b[0m     \u001b[43mestimator\u001b[49m\u001b[38;5;241;43m.\u001b[39;49m\u001b[43mfit\u001b[49m\u001b[43m(\u001b[49m\u001b[43mdata\u001b[49m\u001b[43m)\u001b[49m\n\u001b[0;32m     10\u001b[0m     v1 \u001b[38;5;241m=\u001b[39m name \n\u001b[0;32m     11\u001b[0m     v2 \u001b[38;5;241m=\u001b[39m n_clusters\n",
      "File \u001b[1;32mD:\\Anaconda\\lib\\site-packages\\sklearn\\cluster\\_agglomerative.py:918\u001b[0m, in \u001b[0;36mAgglomerativeClustering.fit\u001b[1;34m(self, X, y)\u001b[0m\n\u001b[0;32m    900\u001b[0m \u001b[38;5;124;03m\"\"\"Fit the hierarchical clustering from features, or distance matrix.\u001b[39;00m\n\u001b[0;32m    901\u001b[0m \n\u001b[0;32m    902\u001b[0m \u001b[38;5;124;03mParameters\u001b[39;00m\n\u001b[1;32m   (...)\u001b[0m\n\u001b[0;32m    915\u001b[0m \u001b[38;5;124;03m    Returns the fitted instance.\u001b[39;00m\n\u001b[0;32m    916\u001b[0m \u001b[38;5;124;03m\"\"\"\u001b[39;00m\n\u001b[0;32m    917\u001b[0m X \u001b[38;5;241m=\u001b[39m \u001b[38;5;28mself\u001b[39m\u001b[38;5;241m.\u001b[39m_validate_data(X, ensure_min_samples\u001b[38;5;241m=\u001b[39m\u001b[38;5;241m2\u001b[39m, estimator\u001b[38;5;241m=\u001b[39m\u001b[38;5;28mself\u001b[39m)\n\u001b[1;32m--> 918\u001b[0m \u001b[38;5;28;01mreturn\u001b[39;00m \u001b[38;5;28;43mself\u001b[39;49m\u001b[38;5;241;43m.\u001b[39;49m\u001b[43m_fit\u001b[49m\u001b[43m(\u001b[49m\u001b[43mX\u001b[49m\u001b[43m)\u001b[49m\n",
      "File \u001b[1;32mD:\\Anaconda\\lib\\site-packages\\sklearn\\cluster\\_agglomerative.py:1001\u001b[0m, in \u001b[0;36mAgglomerativeClustering._fit\u001b[1;34m(self, X)\u001b[0m\n\u001b[0;32m    997\u001b[0m distance_threshold \u001b[38;5;241m=\u001b[39m \u001b[38;5;28mself\u001b[39m\u001b[38;5;241m.\u001b[39mdistance_threshold\n\u001b[0;32m    999\u001b[0m return_distance \u001b[38;5;241m=\u001b[39m (distance_threshold \u001b[38;5;129;01mis\u001b[39;00m \u001b[38;5;129;01mnot\u001b[39;00m \u001b[38;5;28;01mNone\u001b[39;00m) \u001b[38;5;129;01mor\u001b[39;00m \u001b[38;5;28mself\u001b[39m\u001b[38;5;241m.\u001b[39mcompute_distances\n\u001b[1;32m-> 1001\u001b[0m out \u001b[38;5;241m=\u001b[39m memory\u001b[38;5;241m.\u001b[39mcache(tree_builder)(\n\u001b[0;32m   1002\u001b[0m     X,\n\u001b[0;32m   1003\u001b[0m     connectivity\u001b[38;5;241m=\u001b[39mconnectivity,\n\u001b[0;32m   1004\u001b[0m     n_clusters\u001b[38;5;241m=\u001b[39mn_clusters,\n\u001b[0;32m   1005\u001b[0m     return_distance\u001b[38;5;241m=\u001b[39mreturn_distance,\n\u001b[0;32m   1006\u001b[0m     \u001b[38;5;241m*\u001b[39m\u001b[38;5;241m*\u001b[39mkwargs,\n\u001b[0;32m   1007\u001b[0m )\n\u001b[0;32m   1008\u001b[0m (\u001b[38;5;28mself\u001b[39m\u001b[38;5;241m.\u001b[39mchildren_, \u001b[38;5;28mself\u001b[39m\u001b[38;5;241m.\u001b[39mn_connected_components_, \u001b[38;5;28mself\u001b[39m\u001b[38;5;241m.\u001b[39mn_leaves_, parents) \u001b[38;5;241m=\u001b[39m out[\n\u001b[0;32m   1009\u001b[0m     :\u001b[38;5;241m4\u001b[39m\n\u001b[0;32m   1010\u001b[0m ]\n\u001b[0;32m   1012\u001b[0m \u001b[38;5;28;01mif\u001b[39;00m return_distance:\n",
      "File \u001b[1;32mD:\\Anaconda\\lib\\site-packages\\joblib\\memory.py:349\u001b[0m, in \u001b[0;36mNotMemorizedFunc.__call__\u001b[1;34m(self, *args, **kwargs)\u001b[0m\n\u001b[0;32m    348\u001b[0m \u001b[38;5;28;01mdef\u001b[39;00m \u001b[38;5;21m__call__\u001b[39m(\u001b[38;5;28mself\u001b[39m, \u001b[38;5;241m*\u001b[39margs, \u001b[38;5;241m*\u001b[39m\u001b[38;5;241m*\u001b[39mkwargs):\n\u001b[1;32m--> 349\u001b[0m     \u001b[38;5;28;01mreturn\u001b[39;00m \u001b[38;5;28mself\u001b[39m\u001b[38;5;241m.\u001b[39mfunc(\u001b[38;5;241m*\u001b[39margs, \u001b[38;5;241m*\u001b[39m\u001b[38;5;241m*\u001b[39mkwargs)\n",
      "File \u001b[1;32mD:\\Anaconda\\lib\\site-packages\\sklearn\\cluster\\_agglomerative.py:271\u001b[0m, in \u001b[0;36mward_tree\u001b[1;34m(X, connectivity, n_clusters, return_distance)\u001b[0m\n\u001b[0;32m    261\u001b[0m     warnings\u001b[38;5;241m.\u001b[39mwarn(\n\u001b[0;32m    262\u001b[0m         \u001b[38;5;124m\"\u001b[39m\u001b[38;5;124mPartial build of the tree is implemented \u001b[39m\u001b[38;5;124m\"\u001b[39m\n\u001b[0;32m    263\u001b[0m         \u001b[38;5;124m\"\u001b[39m\u001b[38;5;124monly for structured clustering (i.e. with \u001b[39m\u001b[38;5;124m\"\u001b[39m\n\u001b[1;32m   (...)\u001b[0m\n\u001b[0;32m    268\u001b[0m         stacklevel\u001b[38;5;241m=\u001b[39m\u001b[38;5;241m2\u001b[39m,\n\u001b[0;32m    269\u001b[0m     )\n\u001b[0;32m    270\u001b[0m X \u001b[38;5;241m=\u001b[39m np\u001b[38;5;241m.\u001b[39mrequire(X, requirements\u001b[38;5;241m=\u001b[39m\u001b[38;5;124m\"\u001b[39m\u001b[38;5;124mW\u001b[39m\u001b[38;5;124m\"\u001b[39m)\n\u001b[1;32m--> 271\u001b[0m out \u001b[38;5;241m=\u001b[39m \u001b[43mhierarchy\u001b[49m\u001b[38;5;241;43m.\u001b[39;49m\u001b[43mward\u001b[49m\u001b[43m(\u001b[49m\u001b[43mX\u001b[49m\u001b[43m)\u001b[49m\n\u001b[0;32m    272\u001b[0m children_ \u001b[38;5;241m=\u001b[39m out[:, :\u001b[38;5;241m2\u001b[39m]\u001b[38;5;241m.\u001b[39mastype(np\u001b[38;5;241m.\u001b[39mintp)\n\u001b[0;32m    274\u001b[0m \u001b[38;5;28;01mif\u001b[39;00m return_distance:\n",
      "File \u001b[1;32mD:\\Anaconda\\lib\\site-packages\\scipy\\cluster\\hierarchy.py:834\u001b[0m, in \u001b[0;36mward\u001b[1;34m(y)\u001b[0m\n\u001b[0;32m    738\u001b[0m \u001b[38;5;28;01mdef\u001b[39;00m \u001b[38;5;21mward\u001b[39m(y):\n\u001b[0;32m    739\u001b[0m     \u001b[38;5;124;03m\"\"\"\u001b[39;00m\n\u001b[0;32m    740\u001b[0m \u001b[38;5;124;03m    Perform Ward's linkage on a condensed distance matrix.\u001b[39;00m\n\u001b[0;32m    741\u001b[0m \n\u001b[1;32m   (...)\u001b[0m\n\u001b[0;32m    832\u001b[0m \n\u001b[0;32m    833\u001b[0m \u001b[38;5;124;03m    \"\"\"\u001b[39;00m\n\u001b[1;32m--> 834\u001b[0m     \u001b[38;5;28;01mreturn\u001b[39;00m \u001b[43mlinkage\u001b[49m\u001b[43m(\u001b[49m\u001b[43my\u001b[49m\u001b[43m,\u001b[49m\u001b[43m \u001b[49m\u001b[43mmethod\u001b[49m\u001b[38;5;241;43m=\u001b[39;49m\u001b[38;5;124;43m'\u001b[39;49m\u001b[38;5;124;43mward\u001b[39;49m\u001b[38;5;124;43m'\u001b[39;49m\u001b[43m,\u001b[49m\u001b[43m \u001b[49m\u001b[43mmetric\u001b[49m\u001b[38;5;241;43m=\u001b[39;49m\u001b[38;5;124;43m'\u001b[39;49m\u001b[38;5;124;43meuclidean\u001b[39;49m\u001b[38;5;124;43m'\u001b[39;49m\u001b[43m)\u001b[49m\n",
      "File \u001b[1;32mD:\\Anaconda\\lib\\site-packages\\scipy\\cluster\\hierarchy.py:1060\u001b[0m, in \u001b[0;36mlinkage\u001b[1;34m(y, method, metric, optimal_ordering)\u001b[0m\n\u001b[0;32m   1056\u001b[0m         \u001b[38;5;28;01mif\u001b[39;00m np\u001b[38;5;241m.\u001b[39mall(y \u001b[38;5;241m>\u001b[39m\u001b[38;5;241m=\u001b[39m \u001b[38;5;241m0\u001b[39m) \u001b[38;5;129;01mand\u001b[39;00m np\u001b[38;5;241m.\u001b[39mallclose(y, y\u001b[38;5;241m.\u001b[39mT):\n\u001b[0;32m   1057\u001b[0m             _warning(\u001b[38;5;124m'\u001b[39m\u001b[38;5;124mThe symmetric non-negative hollow observation \u001b[39m\u001b[38;5;124m'\u001b[39m\n\u001b[0;32m   1058\u001b[0m                      \u001b[38;5;124m'\u001b[39m\u001b[38;5;124mmatrix looks suspiciously like an uncondensed \u001b[39m\u001b[38;5;124m'\u001b[39m\n\u001b[0;32m   1059\u001b[0m                      \u001b[38;5;124m'\u001b[39m\u001b[38;5;124mdistance matrix\u001b[39m\u001b[38;5;124m'\u001b[39m)\n\u001b[1;32m-> 1060\u001b[0m     y \u001b[38;5;241m=\u001b[39m \u001b[43mdistance\u001b[49m\u001b[38;5;241;43m.\u001b[39;49m\u001b[43mpdist\u001b[49m\u001b[43m(\u001b[49m\u001b[43my\u001b[49m\u001b[43m,\u001b[49m\u001b[43m \u001b[49m\u001b[43mmetric\u001b[49m\u001b[43m)\u001b[49m\n\u001b[0;32m   1061\u001b[0m \u001b[38;5;28;01melse\u001b[39;00m:\n\u001b[0;32m   1062\u001b[0m     \u001b[38;5;28;01mraise\u001b[39;00m \u001b[38;5;167;01mValueError\u001b[39;00m(\u001b[38;5;124m\"\u001b[39m\u001b[38;5;124m`y` must be 1 or 2 dimensional.\u001b[39m\u001b[38;5;124m\"\u001b[39m)\n",
      "File \u001b[1;32mD:\\Anaconda\\lib\\site-packages\\scipy\\spatial\\distance.py:2250\u001b[0m, in \u001b[0;36mpdist\u001b[1;34m(X, metric, out, **kwargs)\u001b[0m\n\u001b[0;32m   2248\u001b[0m \u001b[38;5;28;01mif\u001b[39;00m metric_info \u001b[38;5;129;01mis\u001b[39;00m \u001b[38;5;129;01mnot\u001b[39;00m \u001b[38;5;28;01mNone\u001b[39;00m:\n\u001b[0;32m   2249\u001b[0m     pdist_fn \u001b[38;5;241m=\u001b[39m metric_info\u001b[38;5;241m.\u001b[39mpdist_func\n\u001b[1;32m-> 2250\u001b[0m     \u001b[38;5;28;01mreturn\u001b[39;00m pdist_fn(X, out\u001b[38;5;241m=\u001b[39mout, \u001b[38;5;241m*\u001b[39m\u001b[38;5;241m*\u001b[39mkwargs)\n\u001b[0;32m   2251\u001b[0m \u001b[38;5;28;01melif\u001b[39;00m mstr\u001b[38;5;241m.\u001b[39mstartswith(\u001b[38;5;124m\"\u001b[39m\u001b[38;5;124mtest_\u001b[39m\u001b[38;5;124m\"\u001b[39m):\n\u001b[0;32m   2252\u001b[0m     metric_info \u001b[38;5;241m=\u001b[39m _TEST_METRICS\u001b[38;5;241m.\u001b[39mget(mstr, \u001b[38;5;28;01mNone\u001b[39;00m)\n",
      "\u001b[1;31mMemoryError\u001b[0m: Unable to allocate 1.01 TiB for an array with shape (139272961425,) and data type float64"
     ]
    }
   ],
   "source": [
    "# adapted from http://scikit-learn.org/stable/auto_examples/cluster/plot_kmeans_digits.html\n",
    "range_n_clusters = range(4,6)\n",
    "List1 = []\n",
    "List2 = []\n",
    "List3 = []\n",
    " \n",
    "for n_clusters in range_n_clusters:\n",
    "    def bench_clustering(estimator, name, data):\n",
    "        estimator.fit(data)\n",
    "        v1 = name \n",
    "        v2 = n_clusters\n",
    "        v3 = metrics.silhouette_score(data, estimator.labels_)\n",
    "\n",
    "        List1.append(v1)\n",
    "        List2.append(v2)\n",
    "        List3.append(v3)\n",
    "\n",
    "    bench_clustering(KMeans(init='k-means++', n_clusters=n_clusters, n_init=12),\n",
    "                  name=\"K-Means\", data=features)\n",
    "    with warnings.catch_warnings():\n",
    "        warnings.simplefilter(\"ignore\")\n",
    "        bench_clustering(MiniBatchKMeans(init='k-means++', n_clusters=n_clusters, n_init=12,max_no_improvement=10, verbose=0,random_state=0),\n",
    "                     name=\"MiniBatchKMeans\", data=features)\n",
    "    bench_clustering(AgglomerativeClustering(n_clusters=n_clusters, linkage='ward'),\n",
    "                  name=\"Ward\", data=features)   \n",
    "\n",
    "    bench_clustering(AgglomerativeClustering(n_clusters=n_clusters, linkage='average'),\n",
    "                  name=\"Average\", data=features)  \n",
    "    \n",
    "    bench_clustering(AgglomerativeClustering(n_clusters=n_clusters, linkage='ward'),\n",
    "                  name=\"Complete\", data=features) \n",
    "d = pd.DataFrame()\n",
    "d['method'] = List1 \n",
    "d['k'] = List2\n",
    "d['silhouette_score'] = List3\n",
    "d = d.sort_values(['silhouette_score'], ascending = False)\n",
    "print (d)"
   ]
  },
  {
   "cell_type": "markdown",
   "metadata": {
    "collapsed": true
   },
   "source": [
    "[**Silhouette plot analysis**](http://scikit-learn.org/stable/auto_examples/cluster/plot_kmeans_silhouette_analysis.html) can also aid with model selection. The relationship of objects within each cluster can be assessed visually.  \n",
    "\n",
    "*Pick a range of k to explore.* (Below is used with K-Means, but can be used with the other clustering methods that use k as a parameter, as mentioned above.)"
   ]
  },
  {
   "cell_type": "code",
   "execution_count": null,
   "metadata": {},
   "outputs": [
    {
     "name": "stdout",
     "output_type": "stream",
     "text": [
      "For n_clusters = 4 The average silhouette_score is : 0.9617458922469573\n"
     ]
    },
    {
     "data": {
      "image/png": "[encoded data removed]",
      "text/plain": [
       "<Figure size 1296x504 with 2 Axes>"
      ]
     },
     "metadata": {
      "needs_background": "light"
     },
     "output_type": "display_data"
    }
   ],
   "source": [
    "#adapted from http://scikit-learn.org/stable/auto_examples/cluster/plot_kmeans_silhouette_analysis.html#sphx-glr-auto-examples-cluster-plot-kmeans-silhouette-analysis-py\n",
    "\n",
    "range_n_clusters = range(4,6)\n",
    "\n",
    "for n_clusters in range_n_clusters:\n",
    "    \n",
    "    cluster = KMeans(init='k-means++', n_clusters=n_clusters, n_init=12)\n",
    "    cluster.fit(features)\n",
    "    metrics.silhouette_score(features, cluster.labels_)\n",
    "\n",
    "    fig, (ax1, ax2) = plt.subplots(1, 2)\n",
    "    fig.set_size_inches(18, 7)\n",
    "\n",
    "    # The 1st subplot is the silhouette plot\n",
    "    # The silhouette coefficient can range from -1, 1 but in this example all\n",
    "    # lie within [-0.1, 1]\n",
    "    ax1.set_xlim([-0.1, 1])\n",
    "    # The (n_clusters+1)*10 is for inserting blank space between silhouette\n",
    "    # plots of individual clusters, to demarcate them clearly.\n",
    "    ax1.set_ylim([0, len(features) + (n_clusters + 1) * 10])\n",
    "\n",
    "    # Initialize the clusterer with n_clusters value and a random generator\n",
    "    # seed of 10 for reproducibility.\n",
    "    clusterer = cluster\n",
    "    cluster_labels = clusterer.fit_predict(features)\n",
    "\n",
    "    # The silhouette_score gives the average value for all the samples.\n",
    "    # This gives a perspective into the density and separation of the formed\n",
    "    # clusters\n",
    "    silhouette_avg = silhouette_score(features, cluster_labels)\n",
    "    print(\"For n_clusters =\", n_clusters,\n",
    "          \"The average silhouette_score is :\", silhouette_avg)\n",
    "\n",
    "    # Compute the silhouette scores for each sample\n",
    "    sample_silhouette_values = silhouette_samples(features, cluster_labels)\n",
    "\n",
    "    y_lower = 10\n",
    "    for i in range(n_clusters):\n",
    "        # Aggregate the silhouette scores for samples belonging to\n",
    "        # cluster i, and sort them\n",
    "        ith_cluster_silhouette_values = \\\n",
    "            sample_silhouette_values[cluster_labels == i]\n",
    "\n",
    "        ith_cluster_silhouette_values.sort()\n",
    "\n",
    "        size_cluster_i = ith_cluster_silhouette_values.shape[0]\n",
    "        y_upper = y_lower + size_cluster_i\n",
    "        \n",
    "        cmap = cm.get_cmap(\"Spectral\")\n",
    "        #colors = cmap(a / b)\n",
    "\n",
    "        color = cmap(float(i) / n_clusters)\n",
    "        ax1.fill_betweenx(np.arange(y_lower, y_upper),\n",
    "                          0, ith_cluster_silhouette_values,\n",
    "                          facecolor=color, edgecolor=color, alpha=0.7)\n",
    "\n",
    "        # Label the silhouette plots with their cluster numbers at the middle\n",
    "        ax1.text(-0.05, y_lower + 0.5 * size_cluster_i, str(i))\n",
    "\n",
    "        # Compute the new y_lower for next plot\n",
    "        y_lower = y_upper + 10  # 10 for the 0 samples\n",
    "\n",
    "    ax1.set_title(\"The silhouette plot for the various clusters.\")\n",
    "    ax1.set_xlabel(\"The silhouette coefficient values\")\n",
    "    ax1.set_ylabel(\"Cluster label\")\n",
    "\n",
    "    # The vertical line for average silhoutte score of all the values\n",
    "    ax1.axvline(x=silhouette_avg, color=\"red\", linestyle=\"--\")\n",
    "\n",
    "    ax1.set_yticks([])  # Clear the yaxis labels / ticks\n",
    "    ax1.set_xticks([-0.1, 0, 0.2, 0.4, 0.6, 0.8, 1])\n",
    "\n",
    "    # 2nd Plot showing the actual clusters formed\n",
    "    colors = cmap(cluster_labels.astype(float) / n_clusters)\n",
    "    ax2.scatter(features[:, 0], features[:, 1], marker='.', s=30, lw=0, alpha=0.7,\n",
    "                c=colors)\n",
    "\n",
    "    # Labeling the clusters\n",
    "    centers = clusterer.cluster_centers_\n",
    "    # Draw white circles at cluster centers\n",
    "    ax2.scatter(centers[:, 0], centers[:, 1],\n",
    "                marker='o', c=\"white\", alpha=1, s=200)\n",
    "\n",
    "    for i, c in enumerate(centers):\n",
    "        ax2.scatter(c[0], c[1], marker='$%d$' % i, alpha=1, s=50)\n",
    "\n",
    "    ax2.set_title(\"The visualization of the clustered data.\")\n",
    "    ax2.set_xlabel(\"Feature space for the 1st feature\")\n",
    "    ax2.set_ylabel(\"Feature space for the 2nd feature\")\n",
    "\n",
    "    plt.suptitle((\"Silhouette analysis for KMeans clustering on sample data \"\n",
    "                  \"with n_clusters = %d\" % n_clusters),\n",
    "                 fontsize=14, fontweight='bold')\n",
    "\n",
    "    plt.show()"
   ]
  },
  {
   "cell_type": "markdown",
   "metadata": {},
   "source": [
    "**Visualizing Clusters** - \n",
    "The example below shows the clusters and their centroids.\n",
    "Seeing the shape of the clusters and the location of the centroids can help with further analysis.\n",
    "\n",
    "*Pick a k to explore.* (Below is used with K-Means, but can be used with the other clustering methods that use k as a parameter, as mentioned above.)\n"
   ]
  },
  {
   "cell_type": "code",
   "execution_count": 15,
   "metadata": {},
   "outputs": [
    {
     "data": {
      "image/png": "[encoded data removed]",
      "text/plain": [
       "<matplotlib.figure.Figure at 0x10a5e9668>"
      ]
     },
     "metadata": {},
     "output_type": "display_data"
    }
   ],
   "source": [
    "#adapted from http://scikit-learn.org/stable/auto_examples/cluster/plot_kmeans_digits.html#sphx-glr-auto-examples-cluster-plot-kmeans-digits-py\n",
    "\n",
    "n_clusters = 10\n",
    "f_scaled = scale(features)\n",
    "reduced_data = PCA(n_components=2).fit_transform(f_scaled)\n",
    "kmeans = KMeans(init='k-means++', n_clusters=n_clusters, n_init=10)\n",
    "kmeans.fit(reduced_data)\n",
    "\n",
    "# Step size of the mesh. Decrease to increase the quality of the VQ.\n",
    "h = .02     # point in the mesh [x_min, x_max]x[y_min, y_max].\n",
    "\n",
    "# Plot the decision boundary. For that, we will assign a color to each\n",
    "x_min, x_max = reduced_data[:, 0].min() - 1, reduced_data[:, 0].max() + 1\n",
    "y_min, y_max = reduced_data[:, 1].min() - 1, reduced_data[:, 1].max() + 1\n",
    "xx, yy = np.meshgrid(np.arange(x_min, x_max, h), np.arange(y_min, y_max, h))\n",
    "\n",
    "# Obtain labels for each point in mesh. Use last trained model.\n",
    "Z = kmeans.predict(np.c_[xx.ravel(), yy.ravel()])\n",
    "\n",
    "# Put the result into a color plot\n",
    "Z = Z.reshape(xx.shape)\n",
    "plt.figure(1)\n",
    "plt.clf()\n",
    "plt.imshow(Z, interpolation='nearest',\n",
    "           extent=(xx.min(), xx.max(), yy.min(), yy.max()),\n",
    "           cmap=plt.cm.Paired,\n",
    "           aspect='auto', origin='lower')\n",
    "\n",
    "plt.plot(reduced_data[:, 0], reduced_data[:, 1], 'k.', markersize=2)\n",
    "# Plot the centroids as a white X\n",
    "centroids = kmeans.cluster_centers_\n",
    "plt.scatter(centroids[:, 0], centroids[:, 1],\n",
    "            marker='x', s=169, linewidths=3,\n",
    "            color='w', zorder=10)\n",
    "plt.title('K-means clustering on the Zillow ZHVI dataset (PCA-reduced data)\\n'\n",
    "          'Centroids are marked with white cross')\n",
    "plt.xlim(x_min, x_max)\n",
    "plt.ylim(y_min, y_max)\n",
    "plt.xticks(())\n",
    "plt.yticks(())\n",
    "plt.show()\n"
   ]
  },
  {
   "cell_type": "markdown",
   "metadata": {},
   "source": [
    "# *Not getting good silhouette scores?*\n",
    "Try adding more features from [Zillow/data](http://www.zillow.com/research/data/).  \n",
    "There are also many other clustering methods with scikit-learn to explore [here](http://scikit-learn.org/stable/modules/clustering.html#clustering)."
   ]
  },
  {
   "cell_type": "code",
   "execution_count": null,
   "metadata": {
    "collapsed": true
   },
   "outputs": [],
   "source": []
  }
 ],
 "metadata": {
  "kernelspec": {
   "display_name": "Python 3 (ipykernel)",
   "language": "python",
   "name": "python3"
  },
  "language_info": {
   "codemirror_mode": {
    "name": "ipython",
    "version": 3
   },
   "file_extension": ".py",
   "mimetype": "text/x-python",
   "name": "python",
   "nbconvert_exporter": "python",
   "pygments_lexer": "ipython3",
   "version": "3.9.7"
  }
 },
 "nbformat": 4,
 "nbformat_minor": 1
}
